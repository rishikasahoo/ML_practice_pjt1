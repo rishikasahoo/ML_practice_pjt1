{
 "cells": [
  {
   "attachments": {},
   "cell_type": "markdown",
   "metadata": {},
   "source": [
    "#### In this notebook we will learn how to use the `groupby()` method of pandas. It is a very important function when it comes to segregating and deriving insights from a specific part of dataset."
   ]
  },
  {
   "cell_type": "code",
   "execution_count": 1,
   "metadata": {},
   "outputs": [],
   "source": [
    "import pandas as pd"
   ]
  },
  {
   "cell_type": "code",
   "execution_count": 2,
   "metadata": {},
   "outputs": [
    {
     "data": {
      "text/html": [
       "<div>\n",
       "<style scoped>\n",
       "    .dataframe tbody tr th:only-of-type {\n",
       "        vertical-align: middle;\n",
       "    }\n",
       "\n",
       "    .dataframe tbody tr th {\n",
       "        vertical-align: top;\n",
       "    }\n",
       "\n",
       "    .dataframe thead th {\n",
       "        text-align: right;\n",
       "    }\n",
       "</style>\n",
       "<table border=\"1\" class=\"dataframe\">\n",
       "  <thead>\n",
       "    <tr style=\"text-align: right;\">\n",
       "      <th></th>\n",
       "      <th>Animal</th>\n",
       "      <th>Max Speed</th>\n",
       "    </tr>\n",
       "  </thead>\n",
       "  <tbody>\n",
       "    <tr>\n",
       "      <th>0</th>\n",
       "      <td>Falcon</td>\n",
       "      <td>380.0</td>\n",
       "    </tr>\n",
       "    <tr>\n",
       "      <th>1</th>\n",
       "      <td>Falcon</td>\n",
       "      <td>370.0</td>\n",
       "    </tr>\n",
       "    <tr>\n",
       "      <th>2</th>\n",
       "      <td>Parrot</td>\n",
       "      <td>24.0</td>\n",
       "    </tr>\n",
       "    <tr>\n",
       "      <th>3</th>\n",
       "      <td>Parrot</td>\n",
       "      <td>26.0</td>\n",
       "    </tr>\n",
       "    <tr>\n",
       "      <th>4</th>\n",
       "      <td>Eagle</td>\n",
       "      <td>145.0</td>\n",
       "    </tr>\n",
       "    <tr>\n",
       "      <th>5</th>\n",
       "      <td>Parrot</td>\n",
       "      <td>23.0</td>\n",
       "    </tr>\n",
       "    <tr>\n",
       "      <th>6</th>\n",
       "      <td>Falcon</td>\n",
       "      <td>310.0</td>\n",
       "    </tr>\n",
       "    <tr>\n",
       "      <th>7</th>\n",
       "      <td>Eagle</td>\n",
       "      <td>122.0</td>\n",
       "    </tr>\n",
       "  </tbody>\n",
       "</table>\n",
       "</div>"
      ],
      "text/plain": [
       "   Animal  Max Speed\n",
       "0  Falcon      380.0\n",
       "1  Falcon      370.0\n",
       "2  Parrot       24.0\n",
       "3  Parrot       26.0\n",
       "4   Eagle      145.0\n",
       "5  Parrot       23.0\n",
       "6  Falcon      310.0\n",
       "7   Eagle      122.0"
      ]
     },
     "execution_count": 2,
     "metadata": {},
     "output_type": "execute_result"
    }
   ],
   "source": [
    "df = pd.DataFrame({'Animal': ['Falcon', 'Falcon',\n",
    "                              'Parrot', 'Parrot', \n",
    "                              'Eagle','Parrot',\n",
    "                              'Falcon', 'Eagle'],\n",
    "                   'Max Speed': [380., 370., 24., 26., 145., 23, 310, 122.]})\n",
    "df"
   ]
  },
  {
   "attachments": {},
   "cell_type": "markdown",
   "metadata": {},
   "source": [
    "#### now lets say, we want to know the average max speed per animal group, meaning what is falcon's average max speed, what is parrot's max speed and so on. For this `groupby()` would be a perfect choice as this groups the data by a specific column, in our case this column is `Animal`"
   ]
  },
  {
   "cell_type": "code",
   "execution_count": 3,
   "metadata": {},
   "outputs": [
    {
     "data": {
      "text/html": [
       "<div>\n",
       "<style scoped>\n",
       "    .dataframe tbody tr th:only-of-type {\n",
       "        vertical-align: middle;\n",
       "    }\n",
       "\n",
       "    .dataframe tbody tr th {\n",
       "        vertical-align: top;\n",
       "    }\n",
       "\n",
       "    .dataframe thead th {\n",
       "        text-align: right;\n",
       "    }\n",
       "</style>\n",
       "<table border=\"1\" class=\"dataframe\">\n",
       "  <thead>\n",
       "    <tr style=\"text-align: right;\">\n",
       "      <th></th>\n",
       "      <th>Max Speed</th>\n",
       "    </tr>\n",
       "    <tr>\n",
       "      <th>Animal</th>\n",
       "      <th></th>\n",
       "    </tr>\n",
       "  </thead>\n",
       "  <tbody>\n",
       "    <tr>\n",
       "      <th>Eagle</th>\n",
       "      <td>133.500000</td>\n",
       "    </tr>\n",
       "    <tr>\n",
       "      <th>Falcon</th>\n",
       "      <td>353.333333</td>\n",
       "    </tr>\n",
       "    <tr>\n",
       "      <th>Parrot</th>\n",
       "      <td>24.333333</td>\n",
       "    </tr>\n",
       "  </tbody>\n",
       "</table>\n",
       "</div>"
      ],
      "text/plain": [
       "         Max Speed\n",
       "Animal            \n",
       "Eagle   133.500000\n",
       "Falcon  353.333333\n",
       "Parrot   24.333333"
      ]
     },
     "execution_count": 3,
     "metadata": {},
     "output_type": "execute_result"
    }
   ],
   "source": [
    "df.groupby(['Animal']).mean()"
   ]
  },
  {
   "attachments": {},
   "cell_type": "markdown",
   "metadata": {},
   "source": [
    "#### As we see above, groupby has to be chained with other methods (in the above case we used mean) to get the result. This will always be the case, as `groupby()` doesnot return a pandas dataframe but a pandas object which is not printable. Be sure to read about how this function works at this [page](https://pandas.pydata.org/docs/reference/api/pandas.DataFrame.groupby.html) and try them out before attempting the tasks. "
   ]
  },
  {
   "attachments": {},
   "cell_type": "markdown",
   "metadata": {},
   "source": [
    "### Turbulent turbines\n",
    "\n",
    "You've been appointed as a Data Analyst for the hottest green energy company. Your tasks are to analyze the performance of a wind farm, composed of 3 types of wind turbines. You have been given two datasets:\n",
    "- a CSV file containing time series data for each turbine (turbine id, power output and timestamp).\n",
    "- a CSV file containing metadata for each turbine (turbine id and turbine type).  \n",
    "\n",
    "The data you received is imperfect: certain records have a null power output entry, indicating a temporary turbine failure."
   ]
  },
  {
   "attachments": {},
   "cell_type": "markdown",
   "metadata": {},
   "source": [
    "#### Task 1\n",
    "\n",
    "Load the two csv files `turbulent_turbines_power.csv` and `turbulent_turbines_type.csv` and combine them into a single dataset. Also print the first few rows of this combined dataset."
   ]
  },
  {
   "cell_type": "code",
   "execution_count": 4,
   "metadata": {},
   "outputs": [
    {
     "name": "stdout",
     "output_type": "stream",
     "text": [
      "                  datetime  turbine_id  turbine_power turbine_type\n",
      "0      2023-01-01 00:00:00           0      14.715189            D\n",
      "1      2023-01-01 01:00:00           0      14.602763            D\n",
      "2      2023-01-01 02:00:00           0      14.544883            D\n",
      "3      2023-01-01 03:00:00           0      14.423655            D\n",
      "4      2023-01-01 04:00:00           0      14.645894            D\n",
      "...                    ...         ...            ...          ...\n",
      "16895  2023-03-07 20:00:00          99      14.883025            D\n",
      "16896  2023-03-07 21:00:00          99      14.125486            D\n",
      "16897  2023-03-07 22:00:00          99      14.476338            D\n",
      "16898  2023-03-07 23:00:00          99      14.446633            D\n",
      "16899  2023-03-08 00:00:00          99      14.541322            D\n",
      "\n",
      "[16900 rows x 4 columns]\n"
     ]
    }
   ],
   "source": [
    "ttp = pd.read_csv(\"turbulent_turbines_power.csv\")\n",
    "ttt = pd.read_csv(\"turbulent_turbines_type.csv\")\n",
    "merged_df = pd.merge(ttp, ttt, on='turbine_id')\n",
    "\n",
    "\n",
    "#print(merged_df.head(7))\n",
    "print(merged_df)"
   ]
  },
  {
   "attachments": {},
   "cell_type": "markdown",
   "metadata": {},
   "source": [
    "#### Task 2\n",
    "\n",
    "Next, determine which turbine type had the lowest average power output in March, considering only non-null values. Print the associated model type and its average power output."
   ]
  },
  {
   "cell_type": "code",
   "execution_count": 5,
   "metadata": {},
   "outputs": [
    {
     "name": "stdout",
     "output_type": "stream",
     "text": [
      "              turbine_power\n",
      "turbine_type               \n",
      "A                 12.503414\n",
      "B                 17.514218\n",
      "C                 19.499008\n",
      "D                 14.506534\n",
      "Lowest Average Turbine power and it's type is:\n",
      "turbine_power    12.503414\n",
      "dtype: float64 turbine_power    A\n",
      "dtype: object\n"
     ]
    },
    {
     "name": "stderr",
     "output_type": "stream",
     "text": [
      "C:\\Users\\HP\\AppData\\Local\\Temp\\ipykernel_23508\\282211938.py:2: SettingWithCopyWarning: \n",
      "A value is trying to be set on a copy of a slice from a DataFrame.\n",
      "Try using .loc[row_indexer,col_indexer] = value instead\n",
      "\n",
      "See the caveats in the documentation: https://pandas.pydata.org/pandas-docs/stable/user_guide/indexing.html#returning-a-view-versus-a-copy\n",
      "  selected_col['datetime'] = pd.to_datetime(selected_col['datetime'])\n",
      "C:\\Users\\HP\\AppData\\Local\\Temp\\ipykernel_23508\\282211938.py:4: FutureWarning: The default value of numeric_only in DataFrameGroupBy.mean is deprecated. In a future version, numeric_only will default to False. Either specify numeric_only or select only columns which should be valid for the function.\n",
      "  selected_col_mean=power_output_march.groupby(['turbine_type']).mean()\n"
     ]
    }
   ],
   "source": [
    "\n",
    "selected_col=merged_df[['turbine_type','turbine_power','datetime']]\n",
    "selected_col['datetime'] = pd.to_datetime(selected_col['datetime'])\n",
    "power_output_march = selected_col[(selected_col['datetime'] >= '2023-03-01') & (selected_col['datetime'] <= '2023-03-31')]\n",
    "selected_col_mean=power_output_march.groupby(['turbine_type']).mean()\n",
    "print(selected_col_mean)\n",
    "\n",
    "lowest_average_power = selected_col_mean.min()\n",
    "lowest_turbine_type = selected_col_mean.idxmin()\n",
    "\n",
    "print(\"Lowest Average Turbine power and it's type is:\")\n",
    "print(lowest_average_power,lowest_turbine_type)\n",
    "\n"
   ]
  },
  {
   "attachments": {},
   "cell_type": "markdown",
   "metadata": {},
   "source": [
    "### Task 3\n",
    "\n",
    "Finally, calculate the failure ratio (number of failures / number of readings) per turbine type. Find the turbine type with the highest failure ratio and print the type and its failure ratio."
   ]
  },
  {
   "cell_type": "code",
   "execution_count": 7,
   "metadata": {},
   "outputs": [
    {
     "name": "stdout",
     "output_type": "stream",
     "text": [
      "A    0.620894\n",
      "C    0.666886\n",
      "B    0.720237\n",
      "D    0.947680\n",
      "Name: turbine_type, dtype: float64\n",
      "D\n",
      "0.9476798505138586\n"
     ]
    }
   ],
   "source": [
    "merged_dff=pd.concat([ttp,ttt], axis=1)\n",
    "#turbine_type_counts = merged_df['turbine_type'].value_counts()\n",
    "reading_counts_by_type = merged_df['turbine_type'].value_counts()\n",
    "nan_power_count = merged_dff['turbine_power'].isna().sum()\n",
    "failure_ratio_by_type = nan_power_count / reading_counts_by_type\n",
    "print(failure_ratio_by_type)\n",
    "highest_failure_ratio_type = failure_ratio_by_type.idxmax()\n",
    "highest_failure_ratio = failure_ratio_by_type.max()\n",
    "print(highest_failure_ratio_type)\n",
    "print(highest_failure_ratio)"
   ]
  }
 ],
 "metadata": {
  "kernelspec": {
   "display_name": "py311",
   "language": "python",
   "name": "python3"
  },
  "language_info": {
   "codemirror_mode": {
    "name": "ipython",
    "version": 3
   },
   "file_extension": ".py",
   "mimetype": "text/x-python",
   "name": "python",
   "nbconvert_exporter": "python",
   "pygments_lexer": "ipython3",
   "version": "3.11.4"
  },
  "orig_nbformat": 4
 },
 "nbformat": 4,
 "nbformat_minor": 2
}
