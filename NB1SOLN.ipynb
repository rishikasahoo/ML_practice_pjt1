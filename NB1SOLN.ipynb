{
 "cells": [
  {
   "attachments": {},
   "cell_type": "markdown",
   "metadata": {},
   "source": [
    "### Introduction to pandas dataframe object\n",
    "\n",
    "Pandas dataframe is a 2D tabular formatted data much like an Excel table with rows and columns. However, dataframes provide far more functionalities than excel, which we will see today."
   ]
  },
  {
   "cell_type": "code",
   "execution_count": 1,
   "metadata": {},
   "outputs": [],
   "source": [
    "# general imports. \n",
    "# we will be using pandas and numpy for this notebook\n",
    "import pandas as pd\n",
    "import numpy as np"
   ]
  },
  {
   "cell_type": "code",
   "execution_count": 2,
   "metadata": {},
   "outputs": [
    {
     "name": "stdout",
     "output_type": "stream",
     "text": [
      "            Physics  Chemistry  Maths  Biology\n",
      "Student 1        57         55     44       81\n",
      "Student 3        82         98     71       96\n",
      "Student 5        41         41     49       81\n",
      "Student 7        97         75     61       45\n",
      "Student 9        51         90     58       67\n",
      "Student 11       40         54     47       33\n"
     ]
    }
   ],
   "source": [
    "# this is one of many ways of initalizing a pandas dataframe. For now, we are not concerned about these ways.\n",
    "# focus on the key methods a dataframe provides\n",
    "\n",
    "someData = pd.DataFrame(\n",
    "                  np.array(\n",
    "                        [[57, 55, 44, 81],\n",
    "                        [82, 98, 71, 96],\n",
    "                        [41, 41, 49, 81],\n",
    "                        [97, 75, 61, 45],\n",
    "                        [51, 90, 58, 67],\n",
    "                        [40, 54, 47, 33]\n",
    "                        ]),\n",
    "                   index=[f'Student {i+1}' for i in range(0, 12, 2)],\n",
    "                   columns=[i for i in ['Physics', 'Chemistry', 'Maths', 'Biology']])\n",
    "print(someData)"
   ]
  },
  {
   "attachments": {},
   "cell_type": "markdown",
   "metadata": {},
   "source": [
    "#### Things to note:\n",
    "- The column names are strings. They can be integers as well.\n",
    "- The row names (also called index of the dataframe) are strings. In most cases, row indices will be integers starting from $0$ untill $n-1$, where $n$ is the total number of rows."
   ]
  },
  {
   "cell_type": "code",
   "execution_count": 3,
   "metadata": {},
   "outputs": [
    {
     "name": "stdout",
     "output_type": "stream",
     "text": [
      "someData has 6 rows and 4 columns\n"
     ]
    }
   ],
   "source": [
    "# printing the total number of rows and columns in the dataset\n",
    "someDataShape = someData.shape\n",
    "print(f\"someData has {someDataShape[0]} rows and {someDataShape[1]} columns\") \n",
    "# notice that the 0th index has the row count and 1st index has column counts"
   ]
  },
  {
   "cell_type": "code",
   "execution_count": 4,
   "metadata": {},
   "outputs": [
    {
     "name": "stdout",
     "output_type": "stream",
     "text": [
      "<class 'pandas.core.frame.DataFrame'>\n",
      "Index: 6 entries, Student 1 to Student 11\n",
      "Data columns (total 4 columns):\n",
      " #   Column     Non-Null Count  Dtype\n",
      "---  ------     --------------  -----\n",
      " 0   Physics    6 non-null      int32\n",
      " 1   Chemistry  6 non-null      int32\n",
      " 2   Maths      6 non-null      int32\n",
      " 3   Biology    6 non-null      int32\n",
      "dtypes: int32(4)\n",
      "memory usage: 144.0+ bytes\n",
      "None\n"
     ]
    }
   ],
   "source": [
    "# display a general info of the dataset such as column names and datatypes \n",
    "print(someData.info())"
   ]
  },
  {
   "cell_type": "code",
   "execution_count": 5,
   "metadata": {},
   "outputs": [
    {
     "name": "stdout",
     "output_type": "stream",
     "text": [
      "Index(['Physics', 'Chemistry', 'Maths', 'Biology'], dtype='object')\n"
     ]
    }
   ],
   "source": [
    "# to display only the column names do\n",
    "print(someData.columns)"
   ]
  },
  {
   "attachments": {},
   "cell_type": "markdown",
   "metadata": {},
   "source": [
    "### Slicing or selecting a specific column/row/cell in a dataframe"
   ]
  },
  {
   "cell_type": "code",
   "execution_count": 6,
   "metadata": {},
   "outputs": [
    {
     "name": "stdout",
     "output_type": "stream",
     "text": [
      "Student 1     57\n",
      "Student 3     82\n",
      "Student 5     41\n",
      "Student 7     97\n",
      "Student 9     51\n",
      "Student 11    40\n",
      "Name: Physics, dtype: int32\n"
     ]
    }
   ],
   "source": [
    "# to select a column simply use the matrix notation []. \n",
    "# Lets select the Physics column \n",
    "\n",
    "print(someData['Physics'])"
   ]
  },
  {
   "cell_type": "code",
   "execution_count": 7,
   "metadata": {},
   "outputs": [
    {
     "name": "stdout",
     "output_type": "stream",
     "text": [
      "            Physics  Maths\n",
      "Student 1        57     44\n",
      "Student 3        82     71\n",
      "Student 5        41     49\n",
      "Student 7        97     61\n",
      "Student 9        51     58\n",
      "Student 11       40     47\n"
     ]
    }
   ],
   "source": [
    "# to select multiple columns say column Physics and Maths, pass a list of column names like\n",
    "\n",
    "print(someData[['Physics' , 'Maths']])"
   ]
  },
  {
   "cell_type": "code",
   "execution_count": 8,
   "metadata": {},
   "outputs": [
    {
     "name": "stdout",
     "output_type": "stream",
     "text": [
      "Physics      41\n",
      "Chemistry    41\n",
      "Maths        49\n",
      "Biology      81\n",
      "Name: Student 5, dtype: int32\n"
     ]
    }
   ],
   "source": [
    "# selecting rows can be done using 2 ways\n",
    "# 1st is integer locations using the .iloc() method \n",
    "# here rows are numbered starting from 0 until n-1\n",
    "\n",
    "# so to select the 3rd row, we do\n",
    "print(someData.iloc[2])"
   ]
  },
  {
   "cell_type": "code",
   "execution_count": 9,
   "metadata": {},
   "outputs": [
    {
     "name": "stdout",
     "output_type": "stream",
     "text": [
      "Physics      41\n",
      "Chemistry    41\n",
      "Maths        49\n",
      "Biology      81\n",
      "Name: Student 5, dtype: int32\n"
     ]
    }
   ],
   "source": [
    "# 2nd method is using the exact row names with .loc() method \n",
    "print(someData.loc['Student 5'])\n",
    "\n",
    "# notice that both the methods give same result\n",
    "# becasue 3rd row from the top has the row label 'Student 5'"
   ]
  },
  {
   "cell_type": "code",
   "execution_count": 10,
   "metadata": {},
   "outputs": [
    {
     "name": "stdout",
     "output_type": "stream",
     "text": [
      "Top 3 rows\n",
      "\n",
      "           Physics  Chemistry  Maths  Biology\n",
      "Student 1       57         55     44       81\n",
      "Student 3       82         98     71       96\n",
      "Student 5       41         41     49       81\n",
      "\n",
      "Top 3 rows using shorter notation\n",
      "\n",
      "           Physics  Chemistry  Maths  Biology\n",
      "Student 1       57         55     44       81\n",
      "Student 3       82         98     71       96\n",
      "Student 5       41         41     49       81\n",
      "\n",
      "Top 3 rows using head() method\n",
      "\n",
      "           Physics  Chemistry  Maths  Biology\n",
      "Student 1       57         55     44       81\n",
      "Student 3       82         98     71       96\n",
      "Student 5       41         41     49       81\n"
     ]
    }
   ],
   "source": [
    "# to select a range of rows say top 3 rows, you can do\n",
    "\n",
    "print('Top 3 rows\\n')\n",
    "print(someData.iloc[0:3])\n",
    "\n",
    "# notice the 0 based indexing , although we write 0:3 python excludes the last index \n",
    "# and goes until index n-1. In this case, only rows 0 , 1 and 2 will be selected\n",
    "\n",
    "# if you are selecting rows from the start, you can skip the starting position and the result will be same\n",
    "print('\\nTop 3 rows using shorter notation\\n')\n",
    "print(someData.iloc[:3])\n",
    "\n",
    "\n",
    "# another very handy method to display top 'n' rows is the head() method\n",
    "# this is quite useful to quickly view the first few rows of large datasets wih thousands of rows\n",
    "print('\\nTop 3 rows using head() method\\n')\n",
    "print(someData.head(3))"
   ]
  },
  {
   "cell_type": "code",
   "execution_count": 11,
   "metadata": {},
   "outputs": [
    {
     "name": "stdout",
     "output_type": "stream",
     "text": [
      "Last 2 rows of someData\n",
      "\n",
      "            Physics  Chemistry  Maths  Biology\n",
      "Student 9        51         90     58       67\n",
      "Student 11       40         54     47       33\n",
      "\n",
      "Last 2 rows of someData using tail()\n",
      "\n",
      "            Physics  Chemistry  Maths  Biology\n",
      "Student 9        51         90     58       67\n",
      "Student 11       40         54     47       33\n"
     ]
    }
   ],
   "source": [
    "# to select last n rows, use negative indexing\n",
    "# for selecting last 2 rows do\n",
    "print(\"Last 2 rows of someData\\n\")\n",
    "print(someData.iloc[-2:])\n",
    "\n",
    "# notice the position of index, the starting index position comes before the :\n",
    "# also the last index is blank because we are going untill the last row so instead of [-2 : 6] you can do [-2:]\n",
    "\n",
    "# similar to head() we have the tail() method as well\n",
    "print(\"\\nLast 2 rows of someData using tail()\\n\")\n",
    "print(someData.tail(2))"
   ]
  },
  {
   "cell_type": "code",
   "execution_count": 12,
   "metadata": {},
   "outputs": [
    {
     "name": "stdout",
     "output_type": "stream",
     "text": [
      "Score of Student 1 in Physics: 57\n",
      "Score of Student 1 in Physics: 57\n"
     ]
    }
   ],
   "source": [
    "# selecting specific cell in the dataframe\n",
    "\n",
    "# for score of Student 1 in Physics, do \n",
    "print(f\"Score of Student 1 in Physics: {someData.loc['Student 1']['Physics']}\")\n",
    "\n",
    "# Or using iloc, you can do\n",
    "print(f\"Score of Student 1 in Physics: {someData.iloc[0]['Physics']}\") # 0 row index is for Student 1"
   ]
  },
  {
   "attachments": {},
   "cell_type": "markdown",
   "metadata": {},
   "source": [
    "## Task 1\n",
    "1. Run the next cell that generates a new dataframe called 'someMoreData'. Display its column names and data types. Using your output, comment on the 'Grade' column. Do you notice something irregular? Explain your observation in short (not more than 2-3 lines).\n",
    "2. Display the first 4 students' scores in Chemistry , Biology and their Grades. Note that you should not display other columns, only the ones mentioned in this question."
   ]
  },
  {
   "cell_type": "code",
   "execution_count": 13,
   "metadata": {},
   "outputs": [
    {
     "name": "stdout",
     "output_type": "stream",
     "text": [
      "            Physics  Chemistry  Maths  Biology Grade\n",
      "Student 1        57         55     44       81     A\n",
      "Student 3        82         98     71       96    B+\n",
      "Student 5        41         41     49       81     B\n",
      "Student 7        97         75     61       45     C\n",
      "Student 9        51         90     58       67    B+\n",
      "Student 11       40         54     47       33   NaN\n"
     ]
    }
   ],
   "source": [
    "someMoreData = someData.copy()\n",
    "someMoreData['Grade'] = ['A', 'B+', 'B', 'C', 'B+', np.nan]\n",
    "print(someMoreData)\n"
   ]
  },
  {
   "cell_type": "code",
   "execution_count": 14,
   "metadata": {},
   "outputs": [
    {
     "name": "stdout",
     "output_type": "stream",
     "text": [
      "<class 'pandas.core.frame.DataFrame'>\n",
      "Index: 6 entries, Student 1 to Student 11\n",
      "Data columns (total 5 columns):\n",
      " #   Column     Non-Null Count  Dtype \n",
      "---  ------     --------------  ----- \n",
      " 0   Physics    6 non-null      int32 \n",
      " 1   Chemistry  6 non-null      int32 \n",
      " 2   Maths      6 non-null      int32 \n",
      " 3   Biology    6 non-null      int32 \n",
      " 4   Grade      5 non-null      object\n",
      "dtypes: int32(4), object(1)\n",
      "memory usage: 364.0+ bytes\n",
      "None\n"
     ]
    }
   ],
   "source": [
    "NoOfColandRow = someMoreData.shape\n",
    "print(someMoreData.info())\n",
    "# your code here. For adding text explanations create a markdown cell below with question number."
   ]
  },
  {
   "attachments": {},
   "cell_type": "markdown",
   "metadata": {},
   "source": [
    "The datatype of Grade is Object and not int32, also 5 rows validates that the grade column count is'non-null', because 5 entries give the value of grades and 1 entry gives null value i.e. 'NaN'. \n"
   ]
  },
  {
   "cell_type": "code",
   "execution_count": 15,
   "metadata": {},
   "outputs": [
    {
     "name": "stdout",
     "output_type": "stream",
     "text": [
      "           Chemistry  Biology\n",
      "Student 1         55       81\n",
      "Student 3         98       96\n",
      "Student 5         41       81\n",
      "Student 7         75       45\n"
     ]
    }
   ],
   "source": [
    "# Q2. \n",
    "print(someMoreData.iloc[[0,1,2,3],[1,3]])"
   ]
  },
  {
   "attachments": {},
   "cell_type": "markdown",
   "metadata": {},
   "source": [
    "### Filtering data using mathematical conditions\n",
    "\n",
    "In DS, you will be performing a lot of analyses on the dataset, for instance you may want to know the grades of all students who scored more than 90 in Physics. We will discuss such usecases below."
   ]
  },
  {
   "cell_type": "code",
   "execution_count": 16,
   "metadata": {},
   "outputs": [
    {
     "name": "stdout",
     "output_type": "stream",
     "text": [
      "Students scoring less than 50 in Biology are:\n",
      "\n",
      "            Physics  Chemistry  Maths  Biology Grade\n",
      "Student 7        97         75     61       45     C\n",
      "Student 11       40         54     47       33   NaN\n"
     ]
    }
   ],
   "source": [
    "# lets say we want to filter someMoreData to display all the students who scored less than 50 in Biology\n",
    "\n",
    "print(f\"Students scoring less than 50 in Biology are:\\n\\n{someMoreData[someMoreData['Biology'] < 50]}\")"
   ]
  },
  {
   "cell_type": "code",
   "execution_count": 17,
   "metadata": {},
   "outputs": [
    {
     "name": "stdout",
     "output_type": "stream",
     "text": [
      "Students scoring less than 50 in Biology and Maths are:\n",
      "\n",
      "            Physics  Chemistry  Maths  Biology Grade\n",
      "Student 11       40         54     47       33   NaN\n"
     ]
    }
   ],
   "source": [
    "# what about students scoring less than 50 in both Biology and Maths\n",
    "\n",
    "print(f\"Students scoring less than 50 in Biology and Maths are:\\n\\n{someMoreData[(someMoreData['Biology'] < 50) & (someMoreData['Maths'] < 50)]}\")\n",
    "\n",
    "# notice the chaining of multiple AND conditions. If you want to impose more conditions the chaining can grow longer "
   ]
  },
  {
   "cell_type": "code",
   "execution_count": 18,
   "metadata": {},
   "outputs": [
    {
     "name": "stdout",
     "output_type": "stream",
     "text": [
      "Students scoring less than 50 in Biology and Maths are:\n",
      "\n",
      "            Physics  Chemistry  Maths  Biology Grade\n",
      "Student 11       40         54     47       33   NaN\n"
     ]
    }
   ],
   "source": [
    "# the above filtering was done on columns. \n",
    "# below we filter rows to get the same result\n",
    "\n",
    "print(f\"Students scoring less than 50 in Biology and Maths are:\\n\\n{someMoreData.loc[(someMoreData['Biology'] < 50) & (someMoreData['Maths'] < 50)]}\")\n",
    "\n",
    "# notice the syntax is almost same except the .loc() which says that the filtration is done on rows\n",
    "# what filtration to apply depends on the situtaion, which we will see in upcoming modules."
   ]
  },
  {
   "attachments": {},
   "cell_type": "markdown",
   "metadata": {},
   "source": [
    "## Task 2\n",
    "- Display all the records in 'someMoreData' where a student has scored atleast 90 or more in Chemistry. You may use any filtration method discussed above.\n",
    "- Display all the records in 'someMoreData' where a student got a C grade or scored less than 50 in Maths.  "
   ]
  },
  {
   "cell_type": "code",
   "execution_count": null,
   "metadata": {},
   "outputs": [],
   "source": []
  },
  {
   "cell_type": "code",
   "execution_count": 19,
   "metadata": {},
   "outputs": [
    {
     "name": "stdout",
     "output_type": "stream",
     "text": [
      "Students scoring 90 or more than 90 in Chemistry are:\n",
      "\n",
      "           Physics  Chemistry  Maths  Biology Grade\n",
      "Student 3       82         98     71       96    B+\n",
      "Student 9       51         90     58       67    B+\n"
     ]
    }
   ],
   "source": [
    "# Q1. \n",
    "print(f\"Students scoring 90 or more than 90 in Chemistry are:\\n\\n{someMoreData[someMoreData['Chemistry'] >= 90]}\")"
   ]
  },
  {
   "cell_type": "code",
   "execution_count": 20,
   "metadata": {},
   "outputs": [
    {
     "data": {
      "text/html": [
       "<div>\n",
       "<style scoped>\n",
       "    .dataframe tbody tr th:only-of-type {\n",
       "        vertical-align: middle;\n",
       "    }\n",
       "\n",
       "    .dataframe tbody tr th {\n",
       "        vertical-align: top;\n",
       "    }\n",
       "\n",
       "    .dataframe thead th {\n",
       "        text-align: right;\n",
       "    }\n",
       "</style>\n",
       "<table border=\"1\" class=\"dataframe\">\n",
       "  <thead>\n",
       "    <tr style=\"text-align: right;\">\n",
       "      <th></th>\n",
       "      <th>Physics</th>\n",
       "      <th>Chemistry</th>\n",
       "      <th>Maths</th>\n",
       "      <th>Biology</th>\n",
       "      <th>Grade</th>\n",
       "    </tr>\n",
       "  </thead>\n",
       "  <tbody>\n",
       "    <tr>\n",
       "      <th>Student 1</th>\n",
       "      <td>57</td>\n",
       "      <td>55</td>\n",
       "      <td>44</td>\n",
       "      <td>81</td>\n",
       "      <td>A</td>\n",
       "    </tr>\n",
       "    <tr>\n",
       "      <th>Student 5</th>\n",
       "      <td>41</td>\n",
       "      <td>41</td>\n",
       "      <td>49</td>\n",
       "      <td>81</td>\n",
       "      <td>B</td>\n",
       "    </tr>\n",
       "    <tr>\n",
       "      <th>Student 7</th>\n",
       "      <td>97</td>\n",
       "      <td>75</td>\n",
       "      <td>61</td>\n",
       "      <td>45</td>\n",
       "      <td>C</td>\n",
       "    </tr>\n",
       "    <tr>\n",
       "      <th>Student 11</th>\n",
       "      <td>40</td>\n",
       "      <td>54</td>\n",
       "      <td>47</td>\n",
       "      <td>33</td>\n",
       "      <td>NaN</td>\n",
       "    </tr>\n",
       "  </tbody>\n",
       "</table>\n",
       "</div>"
      ],
      "text/plain": [
       "            Physics  Chemistry  Maths  Biology Grade\n",
       "Student 1        57         55     44       81     A\n",
       "Student 5        41         41     49       81     B\n",
       "Student 7        97         75     61       45     C\n",
       "Student 11       40         54     47       33   NaN"
      ]
     },
     "execution_count": 20,
     "metadata": {},
     "output_type": "execute_result"
    }
   ],
   "source": [
    "# Q2. \n",
    "#print(f\"Students scoring C grade or less than 50 in Maths are:\\n\\n{someMoreData[(someMoreData.Maths=='C') | (someMoreData['Maths'] < 50)]}\")\n",
    "someMoreData[(someMoreData.Maths<50) | (someMoreData.Grade=='C')]"
   ]
  },
  {
   "attachments": {},
   "cell_type": "markdown",
   "metadata": {},
   "source": [
    "## Mathematical operations and adding new columns to dataframes"
   ]
  },
  {
   "cell_type": "code",
   "execution_count": 21,
   "metadata": {},
   "outputs": [
    {
     "name": "stdout",
     "output_type": "stream",
     "text": [
      "someMoreData after adding the Total column\n",
      "\n",
      "            Physics  Chemistry  Maths  Biology Grade  Total\n",
      "Student 1        57         55     44       81     A    237\n",
      "Student 3        82         98     71       96    B+    347\n",
      "Student 5        41         41     49       81     B    212\n",
      "Student 7        97         75     61       45     C    278\n",
      "Student 9        51         90     58       67    B+    266\n",
      "Student 11       40         54     47       33   NaN    174\n"
     ]
    }
   ],
   "source": [
    "# dataframes support arithmetic operations just like we would do normally. \n",
    "# for instance I can create a new 'Total' column \n",
    "# that stores the sum of all scores for a student \n",
    "\n",
    "someMoreData['Total'] = someMoreData['Physics'] + someMoreData['Chemistry'] + someMoreData['Maths'] + someMoreData['Biology']\n",
    "print(\"someMoreData after adding the Total column\\n\")\n",
    "print(someMoreData)\n",
    "\n",
    "# notice the 'Total' column was added at the very end. \n",
    "# You can also insert a new column at specific position, feel free to google that yourself."
   ]
  },
  {
   "attachments": {},
   "cell_type": "markdown",
   "metadata": {},
   "source": [
    "## Task 3\n",
    "- Add a new column 'AverageScore' that stores the average score of each student.\n",
    "- Now display the students whose 'AverageScore' is atleast 66.5"
   ]
  },
  {
   "cell_type": "code",
   "execution_count": 22,
   "metadata": {},
   "outputs": [
    {
     "name": "stdout",
     "output_type": "stream",
     "text": [
      "            Physics  Chemistry  Maths  Biology Grade  Total  AverageScore\n",
      "Student 1        57         55     44       81     A    237         59.25\n",
      "Student 3        82         98     71       96    B+    347         86.75\n",
      "Student 5        41         41     49       81     B    212         53.00\n",
      "Student 7        97         75     61       45     C    278         69.50\n",
      "Student 9        51         90     58       67    B+    266         66.50\n",
      "Student 11       40         54     47       33   NaN    174         43.50\n"
     ]
    }
   ],
   "source": [
    "# Q1. \n",
    "#someMoreData.mean(axis='columns')\n",
    "#someMoreData['AverageScore']=someMoreData.mean(axis='columns')\n",
    "someMoreData['AverageScore']=(someMoreData.Total.div(4))\n",
    "print(someMoreData)"
   ]
  },
  {
   "cell_type": "code",
   "execution_count": 23,
   "metadata": {},
   "outputs": [
    {
     "data": {
      "text/html": [
       "<div>\n",
       "<style scoped>\n",
       "    .dataframe tbody tr th:only-of-type {\n",
       "        vertical-align: middle;\n",
       "    }\n",
       "\n",
       "    .dataframe tbody tr th {\n",
       "        vertical-align: top;\n",
       "    }\n",
       "\n",
       "    .dataframe thead th {\n",
       "        text-align: right;\n",
       "    }\n",
       "</style>\n",
       "<table border=\"1\" class=\"dataframe\">\n",
       "  <thead>\n",
       "    <tr style=\"text-align: right;\">\n",
       "      <th></th>\n",
       "      <th>Physics</th>\n",
       "      <th>Chemistry</th>\n",
       "      <th>Maths</th>\n",
       "      <th>Biology</th>\n",
       "      <th>Grade</th>\n",
       "      <th>Total</th>\n",
       "      <th>AverageScore</th>\n",
       "    </tr>\n",
       "  </thead>\n",
       "  <tbody>\n",
       "    <tr>\n",
       "      <th>Student 3</th>\n",
       "      <td>82</td>\n",
       "      <td>98</td>\n",
       "      <td>71</td>\n",
       "      <td>96</td>\n",
       "      <td>B+</td>\n",
       "      <td>347</td>\n",
       "      <td>86.75</td>\n",
       "    </tr>\n",
       "    <tr>\n",
       "      <th>Student 7</th>\n",
       "      <td>97</td>\n",
       "      <td>75</td>\n",
       "      <td>61</td>\n",
       "      <td>45</td>\n",
       "      <td>C</td>\n",
       "      <td>278</td>\n",
       "      <td>69.50</td>\n",
       "    </tr>\n",
       "    <tr>\n",
       "      <th>Student 9</th>\n",
       "      <td>51</td>\n",
       "      <td>90</td>\n",
       "      <td>58</td>\n",
       "      <td>67</td>\n",
       "      <td>B+</td>\n",
       "      <td>266</td>\n",
       "      <td>66.50</td>\n",
       "    </tr>\n",
       "  </tbody>\n",
       "</table>\n",
       "</div>"
      ],
      "text/plain": [
       "           Physics  Chemistry  Maths  Biology Grade  Total  AverageScore\n",
       "Student 3       82         98     71       96    B+    347         86.75\n",
       "Student 7       97         75     61       45     C    278         69.50\n",
       "Student 9       51         90     58       67    B+    266         66.50"
      ]
     },
     "execution_count": 23,
     "metadata": {},
     "output_type": "execute_result"
    }
   ],
   "source": [
    "# Q2. \n",
    "someMoreData[(someMoreData.AverageScore>=66.5)]"
   ]
  },
  {
   "attachments": {},
   "cell_type": "markdown",
   "metadata": {},
   "source": [
    "### notebook complete"
   ]
  }
 ],
 "metadata": {
  "kernelspec": {
   "display_name": "py311",
   "language": "python",
   "name": "python3"
  },
  "language_info": {
   "codemirror_mode": {
    "name": "ipython",
    "version": 3
   },
   "file_extension": ".py",
   "mimetype": "text/x-python",
   "name": "python",
   "nbconvert_exporter": "python",
   "pygments_lexer": "ipython3",
   "version": "3.11.4"
  },
  "orig_nbformat": 4
 },
 "nbformat": 4,
 "nbformat_minor": 2
}
